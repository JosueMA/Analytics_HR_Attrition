{
 "cells": [
  {
   "cell_type": "code",
   "execution_count": null,
   "metadata": {
    "collapsed": true
   },
   "outputs": [],
   "source": [
    "import pandas as pd\n",
    "import numpy as np\n",
    "import matplotlib.pyplot as plt\n",
    "import seaborn as sns\n",
    "sns.set(style='whitegrid')\n",
    "%matplotlib inline"
   ]
  },
  {
   "cell_type": "code",
   "execution_count": null,
   "metadata": {
    "collapsed": true
   },
   "outputs": [],
   "source": []
  },
  {
   "cell_type": "code",
   "execution_count": null,
   "metadata": {},
   "outputs": [],
   "source": [
    "df_hr = pd.read_csv('HR_comma_sep.csv')\n",
    "\n",
    "df_hr.rename(columns={'sales': 'department'}, inplace=True)\n",
    "\n",
    "df_hr.info()\n"
   ]
  },
  {
   "cell_type": "code",
   "execution_count": null,
   "metadata": {},
   "outputs": [],
   "source": [
    "df_hr.head()"
   ]
  },
  {
   "cell_type": "code",
   "execution_count": null,
   "metadata": {},
   "outputs": [],
   "source": [
    "df_hr.describe()"
   ]
  },
  {
   "cell_type": "markdown",
   "metadata": {},
   "source": []
  },
  {
   "cell_type": "code",
   "execution_count": null,
   "metadata": {},
   "outputs": [],
   "source": [
    "plt.figure(figsize=(10,10))\n",
    "sns.heatmap(data=df_hr.corr(), annot=True,cmap=\"YlGnBu\")"
   ]
  },
  {
   "cell_type": "markdown",
   "metadata": {},
   "source": [
    "Se ve una correlación entre el nivel de satisfacción y la permanencia o no en la empresa\n"
   ]
  },
  {
   "cell_type": "markdown",
   "metadata": {},
   "source": [
    "# Ahora veamos la matriz de correlación solo para aquellos que se fueron\n"
   ]
  },
  {
   "cell_type": "code",
   "execution_count": null,
   "metadata": {
    "collapsed": true
   },
   "outputs": [],
   "source": [
    "df_hr_left = df_hr[df_hr['left'] == 1] \n",
    "df_hr.drop('left', axis=1)\n",
    "#df_hr_left = df_hr_left.drop(columns=['left']) #quito la col left, y trabajo con el df\n",
    "df_hr_not_left = df_hr[df_hr['left'] == 0] "
   ]
  },
  {
   "cell_type": "code",
   "execution_count": null,
   "metadata": {},
   "outputs": [],
   "source": [
    "sns.lmplot(x=\"last_evaluation\", y=\"satisfaction_level\", data=df_hr, hue='left', fit_reg=False)\n"
   ]
  },
  {
   "cell_type": "code",
   "execution_count": null,
   "metadata": {},
   "outputs": [],
   "source": [
    "plt.figure(figsize=(10,10))\n",
    "g = sns.FacetGrid(df_hr, col=\"number_project\", hue=\"left\")\n",
    "g.map(plt.scatter, \"satisfaction_level\", \"last_evaluation\", alpha=.7)\n",
    "g.add_legend();\n"
   ]
  },
  {
   "cell_type": "code",
   "execution_count": null,
   "metadata": {},
   "outputs": [],
   "source": [
    "sns.heatmap(data=df_hr_left.corr(), annot=True,cmap=\"YlGnBu\")"
   ]
  },
  {
   "cell_type": "code",
   "execution_count": null,
   "metadata": {},
   "outputs": [],
   "source": [
    "g = sns.FacetGrid(df_hr, row=\"department\", hue=\"left\")\n",
    "g.map(plt.scatter, \"satisfaction_level\", \"last_evaluation\", alpha=.7)\n",
    "g.add_legend();"
   ]
  },
  {
   "cell_type": "code",
   "execution_count": null,
   "metadata": {},
   "outputs": [],
   "source": [
    "g = sns.FacetGrid(df_hr_left, col=\"number_project\")\n",
    "g.map(plt.scatter, \"satisfaction_level\", \"last_evaluation\", alpha=.7)\n",
    "g.add_legend();"
   ]
  },
  {
   "cell_type": "code",
   "execution_count": null,
   "metadata": {},
   "outputs": [],
   "source": [
    "g = sns.FacetGrid(df_hr_left, row=\"department\")\n",
    "g.map(plt.scatter, \"satisfaction_level\", \"last_evaluation\", alpha=.7)\n",
    "g.add_legend();"
   ]
  },
  {
   "cell_type": "code",
   "execution_count": null,
   "metadata": {
    "collapsed": true
   },
   "outputs": [],
   "source": [
    "#g = sns.FacetGrid(df_hr, row=\"department\", size=1.7, aspect=4,)\n",
    "#g.map(sns.distplot, \"average_montly_hours\", hist=False, rug=True);"
   ]
  },
  {
   "cell_type": "code",
   "execution_count": null,
   "metadata": {},
   "outputs": [],
   "source": [
    "fig, ax = plt.subplots()\n",
    "fig.set_size_inches(17.7, 6.27)\n",
    "ax = sns.violinplot(x=\"department\", y=\"satisfaction_level\", hue=\"left\",data=df_hr)"
   ]
  },
  {
   "cell_type": "code",
   "execution_count": null,
   "metadata": {},
   "outputs": [],
   "source": [
    "ax = sns.kdeplot(df_hr.satisfaction_level, shade=True, color=\"r\")\n"
   ]
  },
  {
   "cell_type": "code",
   "execution_count": null,
   "metadata": {},
   "outputs": [],
   "source": [
    "ax = sns.kdeplot(df_hr_left.satisfaction_level, shade=True, color=\"r\" )\n"
   ]
  },
  {
   "cell_type": "markdown",
   "metadata": {},
   "source": [
    "de la gente que se fue, hay 3 olas que analizar, pero principalmente debemos ver la que tiene buen nivel de satisfaccion\n"
   ]
  },
  {
   "cell_type": "code",
   "execution_count": null,
   "metadata": {
    "collapsed": true
   },
   "outputs": [],
   "source": [
    "df_left_high_satisf = df_hr.query('satisfaction_level > .6')"
   ]
  },
  {
   "cell_type": "code",
   "execution_count": null,
   "metadata": {},
   "outputs": [],
   "source": [
    "ax = sns.kdeplot(df_left_high_satisf.last_evaluation, shade=True, color=\"b\" )"
   ]
  },
  {
   "cell_type": "code",
   "execution_count": null,
   "metadata": {},
   "outputs": [],
   "source": [
    "plt.figure(figsize=(10,10))\n",
    "sns.heatmap(data=df_left_high_satisf.corr(), annot=True, cmap=\"YlGnBu\")"
   ]
  },
  {
   "cell_type": "code",
   "execution_count": null,
   "metadata": {},
   "outputs": [],
   "source": [
    "g = sns.FacetGrid(df_left_high_satisf, col=\"department\")\n",
    "g.map(plt.scatter, \"satisfaction_level\", \"last_evaluation\", alpha=.7)\n",
    "g.add_legend();"
   ]
  },
  {
   "cell_type": "code",
   "execution_count": null,
   "metadata": {},
   "outputs": [],
   "source": [
    "ax = sns.kdeplot(df_hr_not_left.satisfaction_level, shade=True, color=\"r\" )"
   ]
  },
  {
   "cell_type": "code",
   "execution_count": null,
   "metadata": {},
   "outputs": [],
   "source": [
    "g = sns.FacetGrid(df_hr, col=\"salary\",row=\"department\")\n",
    "g.map(sns.kdeplot, \"average_montly_hours\",shade=True)"
   ]
  },
  {
   "cell_type": "code",
   "execution_count": null,
   "metadata": {},
   "outputs": [],
   "source": [
    "df_hr.hist(bins=100,figsize=(9,7),grid=False);"
   ]
  },
  {
   "cell_type": "code",
   "execution_count": null,
   "metadata": {},
   "outputs": [],
   "source": [
    "sns.factorplot(x = 'department',y=\"left\", data = df_hr,color=\"r\", size=8, aspect=1);"
   ]
  },
  {
   "cell_type": "code",
   "execution_count": null,
   "metadata": {},
   "outputs": [],
   "source": [
    "sns.factorplot(x = 'department', y=\"satisfaction_level\",hue=\"left\", data = df_hr,color=\"black\", size=8, aspect=1);"
   ]
  },
  {
   "cell_type": "code",
   "execution_count": null,
   "metadata": {},
   "outputs": [],
   "source": [
    "sns.violinplot(x=\"Work_accident\", y=\"left\", data=df_hr, inner=None)\n",
    "#sns.swarmplot(x=\"Work_accident\", y=\"left\", data=df_hr, color=\"w\", alpha=.5)\n"
   ]
  },
  {
   "cell_type": "code",
   "execution_count": null,
   "metadata": {},
   "outputs": [],
   "source": [
    "df_hr.corr()[\"left\"]"
   ]
  },
  {
   "cell_type": "code",
   "execution_count": null,
   "metadata": {},
   "outputs": [],
   "source": [
    "sns.countplot(x=\"Work_accident\", hue=\"left\", data=df_hr, palette=\"Greens_d\");"
   ]
  },
  {
   "cell_type": "code",
   "execution_count": null,
   "metadata": {},
   "outputs": [],
   "source": [
    "df_hr.groupby(\"department\").mean()"
   ]
  },
  {
   "cell_type": "code",
   "execution_count": null,
   "metadata": {},
   "outputs": [],
   "source": [
    "fig, (ax1, ax2) = plt.subplots(nrows=2, figsize=(13,9))\n",
    "sns.distplot(df_hr['satisfaction_level'], bins=75, ax=ax1)\n",
    "ax1.set_title('Satisfaction Level Overall')\n",
    "\n",
    "sns.kdeplot(df_hr_left['satisfaction_level'], color='red', ax=ax2, shade=True)\n",
    "sns.kdeplot(df_hr_not_left['satisfaction_level'], color='green', ax=ax2, shade=True)\n",
    "ax2.set_title('Satisfaction Level Left vs Not Left')\n",
    "ax2.legend(['left', 'not left'])"
   ]
  },
  {
   "cell_type": "code",
   "execution_count": null,
   "metadata": {},
   "outputs": [],
   "source": [
    "fig, (ax1, ax2) = plt.subplots(nrows=2, figsize=(13,9))\n",
    "sns.distplot(df_hr['last_evaluation'], bins=75, ax=ax1)\n",
    "ax1.set_title('Last Evaluation Overall')\n",
    "\n",
    "sns.kdeplot(df_hr_left['last_evaluation'], color='red', ax=ax2, shade=True)\n",
    "sns.kdeplot(df_hr_not_left['last_evaluation'], color='green', ax=ax2, shade=True)\n",
    "ax2.set_title('last Evaluation Left vs Not Left')\n",
    "ax2.legend(['left', 'not left'])"
   ]
  },
  {
   "cell_type": "code",
   "execution_count": null,
   "metadata": {},
   "outputs": [],
   "source": [
    "fig, (ax1, ax2) = plt.subplots(nrows=2, figsize=(13,9))\n",
    "sns.distplot(df_hr['average_montly_hours'], bins=75, ax=ax1)\n",
    "ax1.set_title('average_montly_hours Overall')\n",
    "\n",
    "sns.kdeplot(df_hr_left['average_montly_hours'], color='red', ax=ax2, shade=True)\n",
    "sns.kdeplot(df_hr_not_left['average_montly_hours'], color='green', ax=ax2, shade=True)\n",
    "ax2.set_title('average_montly_hours Left vs Not Left')\n",
    "ax2.legend(['left', 'not left'])"
   ]
  },
  {
   "cell_type": "code",
   "execution_count": null,
   "metadata": {
    "collapsed": true
   },
   "outputs": [],
   "source": [
    "map_salary = {'low': 0, 'medium': 1, 'high': 2} \n",
    "df_hr.replace({'salary': map_salary}, inplace=True)"
   ]
  },
  {
   "cell_type": "code",
   "execution_count": null,
   "metadata": {},
   "outputs": [],
   "source": [
    "%%time\n",
    "from sklearn import preprocessing\n",
    "from sklearn.linear_model import LogisticRegression\n",
    "from sklearn.model_selection import GridSearchCV\n",
    "\n",
    "X_lr = df_hr.drop(['left', 'department'], axis=1)\n",
    "y_lr = df_hr['left']\n",
    "\n",
    "X_lr = preprocessing.scale(X_lr)\n",
    "\n",
    "model_lr = LogisticRegression()\n",
    "param_lr = {'C' : np.linspace(1, 10, 20)}\n",
    "\n",
    "clf_lr = GridSearchCV(model_lr, param_lr, cv=5, return_train_score=False)\n",
    "\n",
    "clf_lr.fit(X_lr, y_lr)\n",
    "\n",
    "print('Score for Logistic Regression is: {}'.format(round(clf_lr.best_score_, 5)))\n"
   ]
  },
  {
   "cell_type": "code",
   "execution_count": null,
   "metadata": {
    "collapsed": true
   },
   "outputs": [],
   "source": [
    "%%time\n",
    "from sklearn.svm import SVC\n",
    "\n",
    "X_svc = df_hr.drop(['left', 'department'], axis=1)\n",
    "y_svc = df_hr['left']\n",
    "\n",
    "X_svc = preprocessing.scale(X_svc)\n",
    "\n",
    "model_svc = SVC(C=16, gamma=2**3.5)\n",
    "param_svc_1 = {'C' : np.linspace(1, 10, 10), 'kernel' : ['rbf', 'poly', 'linear', 'sigmoid']}\n",
    "clf_svc_1 = GridSearchCV(model_svc, param_svc_1, cv=5, return_train_score=False)\n",
    "\n",
    "clf_svc_1.fit(X_svc, y_svc)\n",
    "\n",
    "print('Score for SVC_1 is: {}'.format(round(clf_svc_1.best_score_, 5)))"
   ]
  },
  {
   "cell_type": "code",
   "execution_count": null,
   "metadata": {
    "collapsed": true
   },
   "outputs": [],
   "source": [
    "clf_svc_final = model_svc_final.fit(X_svc, y_svc)\n",
    "predicted_values_svc_final = pd.Series(clf_svc_final.predict(X_svc), index=y_svc.index)\n",
    "\n",
    "emp_might_leave = []\n",
    "for index in y_svc.index:\n",
    "    if (predicted_values_svc_final.loc[index] == 1) and (y_svc.loc[index] == 0):\n",
    "        emp_might_leave.append(index)\n",
    "        \n",
    "\n",
    "print('So the employees who might leave are employees with {} indexes.'.format(emp_might_leave))        \n"
   ]
  }
 ],
 "metadata": {
  "kernelspec": {
   "display_name": "Python 3",
   "language": "python",
   "name": "python3"
  },
  "language_info": {
   "codemirror_mode": {
    "name": "ipython",
    "version": 3
   },
   "file_extension": ".py",
   "mimetype": "text/x-python",
   "name": "python",
   "nbconvert_exporter": "python",
   "pygments_lexer": "ipython3",
   "version": "3.6.3"
  }
 },
 "nbformat": 4,
 "nbformat_minor": 2
}
